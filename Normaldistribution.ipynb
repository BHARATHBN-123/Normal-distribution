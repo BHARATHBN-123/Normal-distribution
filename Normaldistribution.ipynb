{
  "nbformat": 4,
  "nbformat_minor": 0,
  "metadata": {
    "colab": {
      "name": "Normaldistribution.ipynb",
      "provenance": [],
      "collapsed_sections": []
    },
    "kernelspec": {
      "name": "python3",
      "display_name": "Python 3"
    },
    "language_info": {
      "name": "python"
    }
  },
  "cells": [
    {
      "cell_type": "code",
      "execution_count": 1,
      "metadata": {
        "id": "l3ZXlmh_2ZSS"
      },
      "outputs": [],
      "source": [
        "import numpy as np\n",
        "import matplotlib.pyplot as plt\n",
        " \n"
      ]
    },
    {
      "cell_type": "code",
      "source": [
        "# Creating a series of data of in range of 1-50.\n",
        "x = np.linspace(1,50,200)\n",
        " \n",
        "#Creating a Function.\n",
        "def normal_dist(x , mean , sd):\n",
        "    prob_density = (np.pi*sd) * np.exp(-0.5*((x-mean)/sd)**2)\n",
        "    return prob_density\n",
        " \n",
        "#Calculate mean and Standard deviation.\n",
        "mean = np.mean(x)\n",
        "sd = np.std(x)\n",
        " \n",
        "#Apply function to the data.\n",
        "pdf = normal_dist(x,mean,sd)\n",
        " \n",
        "#Plotting the Results\n",
        "plt.plot(x,pdf , color = 'red')\n",
        "plt.xlabel('Data points')\n",
        "plt.ylabel('Probability Density')"
      ],
      "metadata": {
        "colab": {
          "base_uri": "https://localhost:8080/",
          "height": 296
        },
        "id": "XnBmFacy2jSw",
        "outputId": "7497eb2b-6048-4d11-cb30-fef513cd7f39"
      },
      "execution_count": 2,
      "outputs": [
        {
          "output_type": "execute_result",
          "data": {
            "text/plain": [
              "Text(0, 0.5, 'Probability Density')"
            ]
          },
          "metadata": {},
          "execution_count": 2
        },
        {
          "output_type": "display_data",
          "data": {
            "text/plain": [
              "<Figure size 432x288 with 1 Axes>"
            ],
            "image/png": "[encoded data removed]"
          },
          "metadata": {
            "needs_background": "light"
          }
        }
      ]
    }
  ]
}